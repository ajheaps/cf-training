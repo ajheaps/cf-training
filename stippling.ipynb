{
 "cells": [
  {
   "cell_type": "markdown",
   "metadata": {
    "collapsed": true
   },
   "source": [
    "# Stippling\n",
    "\n",
    "## Stippling is a way of showing areas of significance on plots. Different shapes, sizes and colours of stipple can be used to indicate the strength of signifinace\n",
    "\n",
    "## Need to make a plot over another plot for stipple to work"
   ]
  },
  {
   "cell_type": "code",
   "execution_count": null,
   "metadata": {},
   "outputs": [],
   "source": [
    "# Plot images inline - not needed in Python\n",
    "%matplotlib inline"
   ]
  },
  {
   "cell_type": "code",
   "execution_count": null,
   "metadata": {},
   "outputs": [],
   "source": [
    "# In this example we will do a test stipple in green dots between 220 and 260 K\n",
    "# and between 300 and 330K in blue squares\n",
    "import cf\n",
    "import cfplot as cfp\n",
    "\n",
    "f = cf.read('../ncas_data/data4.nc')[0]\n",
    "print(f)\n",
    "g = f.subspace(time=15)\n",
    "cfp.gopen()\n",
    "cfp.cscale('magma')\n",
    "cfp.con(g)\n",
    "cfp.stipple(f=g, min=220, max=260, size=100, color='#00ff00')\n",
    "cfp.stipple(f=g, min=300, max=330, size=50, color='#0000ff', marker='s')\n",
    "cfp.gclose()"
   ]
  },
  {
   "cell_type": "code",
   "execution_count": null,
   "metadata": {},
   "outputs": [],
   "source": [
    "# Polar stipples\n",
    "\n",
    "f = cf.read('../ncas_data/data4.nc')[0]\n",
    "g = f.subspace(time=15)\n",
    "cfp.gopen()\n",
    "cfp.cscale('magma')\n",
    "cfp.mapset(proj='npstere')\n",
    "cfp.con(g)\n",
    "cfp.stipple(f=g, min=265, max=295, size=100, color='#00ff00')\n",
    "cfp.gclose()"
   ]
  },
  {
   "cell_type": "code",
   "execution_count": null,
   "metadata": {},
   "outputs": [],
   "source": [
    "cfp.cscale()\n",
    "f = cf.read('../ncas_data/data1.nc', select='eastward_wind')[0]\n",
    "f = f.collapse('mean','longitude')\n",
    "cfp.gopen()\n",
    "cfp.con(f)\n",
    "cfp.stipple(f=f, min=20, max=100, size=100, color='#00ff00')\n",
    "cfp.gclose()"
   ]
  },
  {
   "cell_type": "code",
   "execution_count": null,
   "metadata": {},
   "outputs": [],
   "source": []
  }
 ],
 "metadata": {
  "anaconda-cloud": {},
  "kernelspec": {
   "display_name": "Python 3",
   "language": "python",
   "name": "python3"
  },
  "language_info": {
   "codemirror_mode": {
    "name": "ipython",
    "version": 3
   },
   "file_extension": ".py",
   "mimetype": "text/x-python",
   "name": "python",
   "nbconvert_exporter": "python",
   "pygments_lexer": "ipython3",
   "version": "3.7.4"
  }
 },
 "nbformat": 4,
 "nbformat_minor": 1
}
