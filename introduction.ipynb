{
 "cells": [
  {
   "cell_type": "markdown",
   "metadata": {},
   "source": [
    "# Introduction - cf-python and cf-plot\n",
    "\n",
    "## The cf in cf-python and cf-plot are to indicate that they are underpined by CF (Climate and Forecast) Metadata Conventions:\n",
    "\n",
    "## http://cfconventions.org\n",
    "\n",
    "## cf-python - The python cf package implements the CF data model for the reading, writing and processing of data and metadata:\n",
    "\n",
    "## https://ncas-cms.github.io/cf-python\n",
    "\n",
    "## cf-plot - A set of Python routines for making the common contour, vector and line plots that climate researchers use. can also plot Numpy arrays of data:\n",
    "\n",
    "## http://ajheaps.github.io/cf-plot"
   ]
  },
  {
   "cell_type": "markdown",
   "metadata": {},
   "source": [
    "# Read, select, write example"
   ]
  },
  {
   "cell_type": "code",
   "execution_count": null,
   "metadata": {},
   "outputs": [],
   "source": [
    "# Inline images in Ipython Notebook - not needed in Python\n",
    "%matplotlib inline\n",
    "\n",
    "# Turn off warnings\n",
    "import warnings\n",
    "warnings.filterwarnings(\"ignore\")"
   ]
  },
  {
   "cell_type": "code",
   "execution_count": null,
   "metadata": {},
   "outputs": [],
   "source": [
    "# Import cf-python and cf-plot\n",
    "import cf\n",
    "import cfplot as cfp"
   ]
  },
  {
   "cell_type": "code",
   "execution_count": null,
   "metadata": {},
   "outputs": [],
   "source": [
    "# Read a data file\n",
    "fl = cf.read('ncas_data/data1.nc')"
   ]
  },
  {
   "cell_type": "code",
   "execution_count": null,
   "metadata": {},
   "outputs": [],
   "source": [
    "# View the contents of the file\n",
    "fl"
   ]
  },
  {
   "cell_type": "code",
   "execution_count": null,
   "metadata": {},
   "outputs": [],
   "source": [
    "# Select the air temperature\n",
    "temp = fl.select('air_temperature')[0]\n",
    "temp"
   ]
  },
  {
   "cell_type": "code",
   "execution_count": null,
   "metadata": {},
   "outputs": [],
   "source": [
    "# Select by index\n",
    "temp = fl[2]\n",
    "print(temp)"
   ]
  },
  {
   "cell_type": "code",
   "execution_count": null,
   "metadata": {},
   "outputs": [],
   "source": [
    "# Select by long_name\n",
    "vorticity = fl.select('long_name=Potential vorticity')[0]"
   ]
  },
  {
   "cell_type": "code",
   "execution_count": null,
   "metadata": {},
   "outputs": [],
   "source": [
    "# See a longer list of field contents\n",
    "print(vorticity)"
   ]
  },
  {
   "cell_type": "code",
   "execution_count": null,
   "metadata": {},
   "outputs": [],
   "source": [
    "# Change the standard_name of the field\n",
    "vorticity.standard_name = 'ertel_potential_vorticity'\n",
    "\n",
    "# Look at field contents\n",
    "print(vorticity)"
   ]
  },
  {
   "cell_type": "code",
   "execution_count": null,
   "metadata": {},
   "outputs": [],
   "source": [
    "# Write the modified field to a netCDF file\n",
    "cf.write(vorticity, 'newfile.nc')"
   ]
  },
  {
   "cell_type": "markdown",
   "metadata": {},
   "source": [
    "# Contour plots"
   ]
  },
  {
   "cell_type": "code",
   "execution_count": null,
   "metadata": {},
   "outputs": [],
   "source": [
    "# Use subspace to select the temperature at 500mb\n",
    "t_500 = temp.subspace(pressure=500)\n",
    "print(t_500)"
   ]
  },
  {
   "cell_type": "code",
   "execution_count": null,
   "metadata": {
    "scrolled": false
   },
   "outputs": [],
   "source": [
    "# Make a contour plot of the data\n",
    "cfp.con(t_500)"
   ]
  },
  {
   "cell_type": "code",
   "execution_count": null,
   "metadata": {
    "scrolled": false
   },
   "outputs": [],
   "source": [
    "# Use mapset to select Europe and make a new contour plot\n",
    "cfp.mapset(lonmin=-30, lonmax=30, latmin=20, latmax=70)\n",
    "cfp.con(t_500)"
   ]
  },
  {
   "cell_type": "code",
   "execution_count": null,
   "metadata": {},
   "outputs": [],
   "source": [
    "# Make a Northern Hemiphere polar stereographic plot\n",
    "cfp.mapset(proj='npstere')\n",
    "cfp.con(t_500)"
   ]
  },
  {
   "cell_type": "code",
   "execution_count": null,
   "metadata": {},
   "outputs": [],
   "source": [
    "# Reset mapping\n",
    "cfp.mapset()"
   ]
  },
  {
   "cell_type": "code",
   "execution_count": null,
   "metadata": {},
   "outputs": [],
   "source": [
    "# Select the zonal wind and make a zonal mean of this using the collapse function in cf-python\n",
    "u = fl.select('eastward_wind')[0]\n",
    "u_mean = u.collapse('longitude: mean')\n",
    "print(u_mean)"
   ]
  },
  {
   "cell_type": "code",
   "execution_count": null,
   "metadata": {},
   "outputs": [],
   "source": [
    "# Make a zonal mean zonal wind plot\n",
    "cfp.con(u_mean)"
   ]
  },
  {
   "cell_type": "code",
   "execution_count": null,
   "metadata": {},
   "outputs": [],
   "source": [
    "# Make a log y-axis plot of the zonal mean zonal wind\n",
    "cfp.con(u_mean, ylog=True)"
   ]
  },
  {
   "cell_type": "markdown",
   "metadata": {
    "collapsed": true
   },
   "source": [
    "# Vector plots"
   ]
  },
  {
   "cell_type": "code",
   "execution_count": null,
   "metadata": {},
   "outputs": [],
   "source": [
    "# Select u and v wind components at 500mb and make a vector plot\n",
    "# We use a stride of 4 in plotting the vectors as the points are close together\n",
    "u = fl.select('eastward_wind')[0].subspace(pressure=500)\n",
    "v = fl.select('northward_wind')[0].subspace(pressure=500)\n",
    "cfp.vect(u=u, v=v, key_length=10, scale=100, stride=4)"
   ]
  },
  {
   "cell_type": "markdown",
   "metadata": {},
   "source": [
    "#### Line plots"
   ]
  },
  {
   "cell_type": "code",
   "execution_count": null,
   "metadata": {},
   "outputs": [],
   "source": [
    "# Select the zonal mean zonal wind at 100mb\n",
    "u = fl.select('eastward_wind')[0]\n",
    "u_mean = u.collapse('longitude: mean')\n",
    "u_mean_100 = u_mean.subspace(pressure=100)\n",
    "print(u_mean_100)"
   ]
  },
  {
   "cell_type": "code",
   "execution_count": null,
   "metadata": {},
   "outputs": [],
   "source": [
    "cfp.lineplot(u_mean_100, marker='o', color='blue', title='Zonal mean zonal wind at 100mb')"
   ]
  },
  {
   "cell_type": "markdown",
   "metadata": {},
   "source": [
    "# Regridding\n",
    "Regrid some temperature longitude-latitude data to another grid and make a plot of the difference between the two datsets."
   ]
  },
  {
   "cell_type": "code",
   "execution_count": null,
   "metadata": {},
   "outputs": [],
   "source": [
    "# Read in data on two different grids\n",
    "temp_era40 = cf.read('ncas_data/data2.nc')[0]\n",
    "temp_era_in = cf.read('ncas_data/data3.nc')[0]\n",
    "\n",
    "print(temp_era40)\n",
    "print(temp_era_in)"
   ]
  },
  {
   "cell_type": "code",
   "execution_count": null,
   "metadata": {},
   "outputs": [],
   "source": [
    "# Perform the regridding\n",
    "temp_regrid = temp_era_in.regrids(temp_era40, method='bilinear')"
   ]
  },
  {
   "cell_type": "code",
   "execution_count": null,
   "metadata": {},
   "outputs": [],
   "source": [
    "# Make a contour plot of the difference between the two datasets\n",
    "cfp.con(temp_regrid-temp_era40, lines=False, title='era_interim - era40 difference')"
   ]
  },
  {
   "cell_type": "markdown",
   "metadata": {},
   "source": [
    "## cf-plot gallery: http://ajheaps.github.io/cf-plot/gallery.html"
   ]
  },
  {
   "cell_type": "code",
   "execution_count": null,
   "metadata": {},
   "outputs": [],
   "source": []
  }
 ],
 "metadata": {
  "anaconda-cloud": {},
  "kernelspec": {
   "display_name": "Python 3",
   "language": "python",
   "name": "python3"
  },
  "language_info": {
   "codemirror_mode": {
    "name": "ipython",
    "version": 3
   },
   "file_extension": ".py",
   "mimetype": "text/x-python",
   "name": "python",
   "nbconvert_exporter": "python",
   "pygments_lexer": "ipython3",
   "version": "3.7.3"
  }
 },
 "nbformat": 4,
 "nbformat_minor": 1
}
