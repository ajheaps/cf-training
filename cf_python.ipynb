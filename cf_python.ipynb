{
 "cells": [
  {
   "cell_type": "markdown",
   "metadata": {},
   "source": [
    "# Manipulating data and metadata in cf-python\n",
    "\n",
    "## Homepage https://ncas-cms.github.io/cf-python\n",
    "\n",
    "## Contents:\n",
    "\n",
    "### 1. Read, inspect, write netCDF files\n",
    "### 2. Subspace\n",
    "### 3. Data\n",
    "### 4. Calculate statistics\n",
    "### 5. PP nad UM datasets"
   ]
  },
  {
   "cell_type": "code",
   "execution_count": 1,
   "metadata": {},
   "outputs": [
    {
     "data": {
      "text/plain": [
       "'3.0.6a1'"
      ]
     },
     "execution_count": 1,
     "metadata": {},
     "output_type": "execute_result"
    }
   ],
   "source": [
    "import cf\n",
    "cf.__version__"
   ]
  },
  {
   "cell_type": "markdown",
   "metadata": {},
   "source": [
    "# 1. Read, inspect and write files\n",
    "https://ncas-cms.github.io/cf-python/function/cf.read.html"
   ]
  },
  {
   "cell_type": "code",
   "execution_count": 2,
   "metadata": {},
   "outputs": [],
   "source": [
    "f = cf.read('ncas_data/IPSL-CM5A-LR_r1i1p1_tas_n96_rcp45_mnth.nc')[0]"
   ]
  },
  {
   "cell_type": "code",
   "execution_count": 3,
   "metadata": {},
   "outputs": [
    {
     "data": {
      "text/plain": [
       "<CF Field: air_temperature(time(120), latitude(145), longitude(192)) K>"
      ]
     },
     "execution_count": 3,
     "metadata": {},
     "output_type": "execute_result"
    }
   ],
   "source": [
    "f"
   ]
  },
  {
   "cell_type": "code",
   "execution_count": 4,
   "metadata": {},
   "outputs": [
    {
     "name": "stdout",
     "output_type": "stream",
     "text": [
      "Field: air_temperature (ncvar%tas)\n",
      "----------------------------------\n",
      "Data            : air_temperature(time(120), latitude(145), longitude(192)) K\n",
      "Cell methods    : time(120): mean (interval: 30 minutes)\n",
      "Dimension coords: time(120) = [1959-12-16 12:00:00, ..., 1969-11-16 00:00:00] 365_day\n",
      "                : latitude(145) = [-90.0, ..., 90.0] degrees_north\n",
      "                : longitude(192) = [0.0, ..., 358.125] degrees_east\n",
      "                : height(1) = [2.0] m\n",
      "\n"
     ]
    }
   ],
   "source": [
    "print(f)"
   ]
  },
  {
   "cell_type": "code",
   "execution_count": 5,
   "metadata": {},
   "outputs": [
    {
     "name": "stdout",
     "output_type": "stream",
     "text": [
      "----------------------------------\n",
      "Field: air_temperature (ncvar%tas)\n",
      "----------------------------------\n",
      "CDI = 'Climate Data Interface version 1.7.0 (http://mpimet.mpg.de/cdi)'\n",
      "CDO = 'Climate Data Operators version 1.7.0 (http://mpimet.mpg.de/cdo)'\n",
      "Conventions = 'CF-1.5'\n",
      "_FillValue = 1.0000000200408773e+20\n",
      "associated_files = 'baseURL: http://cmip-pcmdi.llnl.gov/CMIP5/dataLocation\n",
      "                    gridspecFile: gridspec_atmos_fx_IPSL-\n",
      "                    CM5A-LR_historical_r0i0p0.nc areacella: areacella_fx_IPSL-\n",
      "                    CM5A-LR_historical_r0i0p0.nc'\n",
      "branch_time = 1850.0\n",
      "cmor_version = '2.5.1'\n",
      "comment = 'This 20th century simulation include natural and anthropogenic\n",
      "           forcings.'\n",
      "contact = 'ipsl-cmip5 _at_ ipsl.jussieu.fr Data manager : Sebastien Denvil'\n",
      "creation_date = '2011-02-23T17:52:35Z'\n",
      "experiment = 'historical'\n",
      "experiment_id = 'historical'\n",
      "forcing = 'Nat,Ant,GHG,SA,Oz,LU,SS,Ds,BC,MD,OC,AA'\n",
      "frequency = 'mon'\n",
      "history = \"Thu May 26 15:47:13 2016: cdo mergetime /data/cr1/hadlg/helix/IPSL-\n",
      "           CM5A-LR_rcp45_tmp_output_1_hist.nc /data/cr1/hadlg/helix/IPSL-\n",
      "           CM5A-LR_rcp45_tmp_output_1_fut.nc /data/cr1/hadlg/helix/IPSL-\n",
      "           CM5A-LR_r1i1p1_tas_merged_rcp45.nc\\n2011-06-24T02:32:44Z altered by\n",
      "           CMOR: Treated scalar dimension: 'height'. 2011-06-24T02:32:44Z\n",
      "           altered by CMOR: replaced missing value flag (9.96921e+36) with\n",
      "           standard missing value (1e+20). 2011-06-24T02:32:45Z altered by\n",
      "           CMOR: Inverted axis: lat.\"\n",
      "initialization_method = 1\n",
      "institute_id = 'IPSL'\n",
      "institution = 'IPSL (Institut Pierre Simon Laplace, Paris, France)'\n",
      "long_name = 'Near-Surface Air Temperature'\n",
      "missing_value = 1e+20\n",
      "model_id = 'IPSL-CM5A-LR'\n",
      "modeling_realm = 'atmos'\n",
      "original_name = 't2m'\n",
      "parent_experiment = 'pre-industrial control'\n",
      "parent_experiment_id = 'piControl'\n",
      "parent_experiment_rip = 'r1i1p1'\n",
      "physics_version = 1\n",
      "product = 'output'\n",
      "project_id = 'CMIP5'\n",
      "realization = 1\n",
      "references = 'Model documentation and further reference available here :\n",
      "              http://icmc.ipsl.fr'\n",
      "source = 'IPSL-CM5A-LR (2010) : atmos : LMDZ4 (LMDZ4_v5, 96x95x39); ocean :\n",
      "          ORCA2 (NEMOV2_3, 2x2L31); seaIce : LIM2 (NEMOV2_3); ocnBgchem :\n",
      "          PISCES (NEMOV2_3); land : ORCHIDEE (orchidee_1_9_4_AR5)'\n",
      "standard_name = 'air_temperature'\n",
      "table_id = 'Table Amon (31 January 2011) 53b766a395ac41696af40aab76a49ae5'\n",
      "title = 'IPSL-CM5A-LR model output prepared for CMIP5 historical'\n",
      "tracking_id = '826ee5e9-3cc9-40a6-a42b-d84c6b4aad97'\n",
      "units = 'K'\n",
      "\n",
      "Data(time(120), latitude(145), longitude(192)) = [[[244.82579040527344, ..., 244.52688598632812]]] K\n",
      "\n",
      "Cell Method: time(120): mean (interval: 30 minutes)\n",
      "\n",
      "Domain Axis: height(1)\n",
      "Domain Axis: latitude(145)\n",
      "Domain Axis: longitude(192)\n",
      "Domain Axis: time(120)\n",
      "\n",
      "Dimension coordinate: time\n",
      "    axis = 'T'\n",
      "    calendar = '365_day'\n",
      "    long_name = 'time'\n",
      "    standard_name = 'time'\n",
      "    units = 'days since 1850-1-1 00:00:00'\n",
      "    Data(time(120)) = [1959-12-16 12:00:00, ..., 1969-11-16 00:00:00] 365_day\n",
      "    Bounds:calendar = '365_day'\n",
      "    Bounds:units = 'days since 1850-1-1 00:00:00'\n",
      "    Bounds:Data(time(120), 2) = [[1959-12-01 00:00:00, ..., 1969-12-01 00:00:00]] 365_day\n",
      "\n",
      "Dimension coordinate: latitude\n",
      "    axis = 'Y'\n",
      "    long_name = 'latitude'\n",
      "    standard_name = 'latitude'\n",
      "    units = 'degrees_north'\n",
      "    Data(latitude(145)) = [-90.0, ..., 90.0] degrees_north\n",
      "    Bounds:units = 'degrees_north'\n",
      "    Bounds:Data(latitude(145), 2) = [[-90.0, ..., 90.0]] degrees_north\n",
      "\n",
      "Dimension coordinate: longitude\n",
      "    axis = 'X'\n",
      "    long_name = 'longitude'\n",
      "    standard_name = 'longitude'\n",
      "    units = 'degrees_east'\n",
      "    Data(longitude(192)) = [0.0, ..., 358.125] degrees_east\n",
      "    Bounds:units = 'degrees_east'\n",
      "    Bounds:Data(longitude(192), 2) = [[-0.9375, ..., 359.0625]] degrees_east\n",
      "\n",
      "Dimension coordinate: height\n",
      "    axis = 'Z'\n",
      "    long_name = 'height'\n",
      "    positive = 'up'\n",
      "    standard_name = 'height'\n",
      "    units = 'm'\n",
      "    Data(height(1)) = [2.0] m\n",
      "\n"
     ]
    }
   ],
   "source": [
    "f.dump()"
   ]
  },
  {
   "cell_type": "markdown",
   "metadata": {},
   "source": [
    "### Properties"
   ]
  },
  {
   "cell_type": "code",
   "execution_count": 6,
   "metadata": {},
   "outputs": [
    {
     "data": {
      "text/plain": [
       "{'Conventions': 'CF-1.5',\n",
       " 'comment': 'This 20th century simulation include natural and anthropogenic forcings.',\n",
       " 'model_id': 'IPSL-CM5A-LR',\n",
       " 'CDI': 'Climate Data Interface version 1.7.0 (http://mpimet.mpg.de/cdi)',\n",
       " 'parent_experiment_id': 'piControl',\n",
       " 'creation_date': '2011-02-23T17:52:35Z',\n",
       " 'frequency': 'mon',\n",
       " 'references': 'Model documentation and further reference available here : http://icmc.ipsl.fr',\n",
       " 'title': 'IPSL-CM5A-LR model output prepared for CMIP5 historical',\n",
       " 'original_name': 't2m',\n",
       " 'contact': 'ipsl-cmip5 _at_ ipsl.jussieu.fr Data manager : Sebastien Denvil',\n",
       " 'source': 'IPSL-CM5A-LR (2010) : atmos : LMDZ4 (LMDZ4_v5, 96x95x39); ocean : ORCA2 (NEMOV2_3, 2x2L31); seaIce : LIM2 (NEMOV2_3); ocnBgchem : PISCES (NEMOV2_3); land : ORCHIDEE (orchidee_1_9_4_AR5)',\n",
       " 'experiment': 'historical',\n",
       " 'realization': 1,\n",
       " 'project_id': 'CMIP5',\n",
       " 'institute_id': 'IPSL',\n",
       " 'initialization_method': 1,\n",
       " 'product': 'output',\n",
       " 'tracking_id': '826ee5e9-3cc9-40a6-a42b-d84c6b4aad97',\n",
       " 'cmor_version': '2.5.1',\n",
       " 'parent_experiment': 'pre-industrial control',\n",
       " 'branch_time': 1850.0,\n",
       " 'institution': 'IPSL (Institut Pierre Simon Laplace, Paris, France)',\n",
       " 'forcing': 'Nat,Ant,GHG,SA,Oz,LU,SS,Ds,BC,MD,OC,AA',\n",
       " 'CDO': 'Climate Data Operators version 1.7.0 (http://mpimet.mpg.de/cdo)',\n",
       " 'physics_version': 1,\n",
       " 'associated_files': 'baseURL: http://cmip-pcmdi.llnl.gov/CMIP5/dataLocation gridspecFile: gridspec_atmos_fx_IPSL-CM5A-LR_historical_r0i0p0.nc areacella: areacella_fx_IPSL-CM5A-LR_historical_r0i0p0.nc',\n",
       " 'modeling_realm': 'atmos',\n",
       " 'table_id': 'Table Amon (31 January 2011) 53b766a395ac41696af40aab76a49ae5',\n",
       " 'experiment_id': 'historical',\n",
       " 'history': \"Thu May 26 15:47:13 2016: cdo mergetime /data/cr1/hadlg/helix/IPSL-CM5A-LR_rcp45_tmp_output_1_hist.nc /data/cr1/hadlg/helix/IPSL-CM5A-LR_rcp45_tmp_output_1_fut.nc /data/cr1/hadlg/helix/IPSL-CM5A-LR_r1i1p1_tas_merged_rcp45.nc\\n2011-06-24T02:32:44Z altered by CMOR: Treated scalar dimension: 'height'. 2011-06-24T02:32:44Z altered by CMOR: replaced missing value flag (9.96921e+36) with standard missing value (1e+20). 2011-06-24T02:32:45Z altered by CMOR: Inverted axis: lat.\",\n",
       " 'parent_experiment_rip': 'r1i1p1',\n",
       " '_FillValue': 1.0000000200408773e+20,\n",
       " 'long_name': 'Near-Surface Air Temperature',\n",
       " 'standard_name': 'air_temperature',\n",
       " 'missing_value': 1e+20,\n",
       " 'units': 'K'}"
      ]
     },
     "execution_count": 6,
     "metadata": {},
     "output_type": "execute_result"
    }
   ],
   "source": [
    "f.properties()"
   ]
  },
  {
   "cell_type": "code",
   "execution_count": 7,
   "metadata": {},
   "outputs": [
    {
     "data": {
      "text/plain": [
       "'CMIP5'"
      ]
     },
     "execution_count": 7,
     "metadata": {},
     "output_type": "execute_result"
    }
   ],
   "source": [
    "f.get_property('project_id')"
   ]
  },
  {
   "cell_type": "code",
   "execution_count": 8,
   "metadata": {},
   "outputs": [
    {
     "data": {
      "text/plain": [
       "'banana'"
      ]
     },
     "execution_count": 8,
     "metadata": {},
     "output_type": "execute_result"
    }
   ],
   "source": [
    "f.set_property('project_id', 'banana')\n",
    "f.get_property('project_id')"
   ]
  },
  {
   "cell_type": "code",
   "execution_count": 9,
   "metadata": {},
   "outputs": [
    {
     "ename": "ValueError",
     "evalue": "'Field' has no 'project_id' property",
     "output_type": "error",
     "traceback": [
      "\u001b[0;31m---------------------------------------------------------------------------\u001b[0m",
      "\u001b[0;31mKeyError\u001b[0m                                  Traceback (most recent call last)",
      "\u001b[0;32m~/cfdm/cfdm/core/abstract/properties.py\u001b[0m in \u001b[0;36mget_property\u001b[0;34m(self, prop, default)\u001b[0m\n\u001b[1;32m    190\u001b[0m         \u001b[0;32mtry\u001b[0m\u001b[0;34m:\u001b[0m\u001b[0;34m\u001b[0m\u001b[0;34m\u001b[0m\u001b[0m\n\u001b[0;32m--> 191\u001b[0;31m             \u001b[0;32mreturn\u001b[0m \u001b[0mself\u001b[0m\u001b[0;34m.\u001b[0m\u001b[0m_get_component\u001b[0m\u001b[0;34m(\u001b[0m\u001b[0;34m'properties'\u001b[0m\u001b[0;34m)\u001b[0m\u001b[0;34m[\u001b[0m\u001b[0mprop\u001b[0m\u001b[0;34m]\u001b[0m\u001b[0;34m\u001b[0m\u001b[0;34m\u001b[0m\u001b[0m\n\u001b[0m\u001b[1;32m    192\u001b[0m         \u001b[0;32mexcept\u001b[0m \u001b[0mKeyError\u001b[0m\u001b[0;34m:\u001b[0m\u001b[0;34m\u001b[0m\u001b[0;34m\u001b[0m\u001b[0m\n",
      "\u001b[0;31mKeyError\u001b[0m: 'project_id'",
      "\nDuring handling of the above exception, another exception occurred:\n",
      "\u001b[0;31mValueError\u001b[0m                                Traceback (most recent call last)",
      "\u001b[0;32m<ipython-input-9-cb231cbd51a2>\u001b[0m in \u001b[0;36m<module>\u001b[0;34m()\u001b[0m\n\u001b[1;32m      1\u001b[0m \u001b[0mf\u001b[0m\u001b[0;34m.\u001b[0m\u001b[0mdel_property\u001b[0m\u001b[0;34m(\u001b[0m\u001b[0;34m'project_id'\u001b[0m\u001b[0;34m)\u001b[0m\u001b[0;34m\u001b[0m\u001b[0;34m\u001b[0m\u001b[0m\n\u001b[0;32m----> 2\u001b[0;31m \u001b[0mf\u001b[0m\u001b[0;34m.\u001b[0m\u001b[0mget_property\u001b[0m\u001b[0;34m(\u001b[0m\u001b[0;34m'project_id'\u001b[0m\u001b[0;34m)\u001b[0m  \u001b[0;31m# This should fail!\u001b[0m\u001b[0;34m\u001b[0m\u001b[0;34m\u001b[0m\u001b[0m\n\u001b[0m",
      "\u001b[0;32m~/cf-python/cf/mixin/properties.py\u001b[0m in \u001b[0;36mget_property\u001b[0;34m(self, prop, default)\u001b[0m\n\u001b[1;32m    531\u001b[0m \u001b[0;34m\u001b[0m\u001b[0m\n\u001b[1;32m    532\u001b[0m         \u001b[0;31m# Still here? Then get a non-special property\u001b[0m\u001b[0;34m\u001b[0m\u001b[0;34m\u001b[0m\u001b[0;34m\u001b[0m\u001b[0m\n\u001b[0;32m--> 533\u001b[0;31m         \u001b[0;32mreturn\u001b[0m \u001b[0msuper\u001b[0m\u001b[0;34m(\u001b[0m\u001b[0;34m)\u001b[0m\u001b[0;34m.\u001b[0m\u001b[0mget_property\u001b[0m\u001b[0;34m(\u001b[0m\u001b[0mprop\u001b[0m\u001b[0;34m,\u001b[0m \u001b[0mdefault\u001b[0m\u001b[0;34m=\u001b[0m\u001b[0mdefault\u001b[0m\u001b[0;34m)\u001b[0m\u001b[0;34m\u001b[0m\u001b[0;34m\u001b[0m\u001b[0m\n\u001b[0m\u001b[1;32m    534\u001b[0m \u001b[0;34m\u001b[0m\u001b[0m\n\u001b[1;32m    535\u001b[0m \u001b[0;34m\u001b[0m\u001b[0m\n",
      "\u001b[0;32m~/cfdm/cfdm/core/abstract/properties.py\u001b[0m in \u001b[0;36mget_property\u001b[0;34m(self, prop, default)\u001b[0m\n\u001b[1;32m    193\u001b[0m             return self._default(default,\n\u001b[1;32m    194\u001b[0m                                  \"{!r} has no {!r} property\".format(\n\u001b[0;32m--> 195\u001b[0;31m                                      self.__class__.__name__, prop))\n\u001b[0m\u001b[1;32m    196\u001b[0m \u001b[0;34m\u001b[0m\u001b[0m\n\u001b[1;32m    197\u001b[0m \u001b[0;34m\u001b[0m\u001b[0m\n",
      "\u001b[0;32m~/cfdm/cfdm/core/abstract/container.py\u001b[0m in \u001b[0;36m_default\u001b[0;34m(self, default, message)\u001b[0m\n\u001b[1;32m     87\u001b[0m                 \u001b[0mdefault\u001b[0m\u001b[0;34m.\u001b[0m\u001b[0margs\u001b[0m \u001b[0;34m=\u001b[0m \u001b[0;34m(\u001b[0m\u001b[0mmessage\u001b[0m\u001b[0;34m,\u001b[0m\u001b[0;34m)\u001b[0m\u001b[0;34m\u001b[0m\u001b[0;34m\u001b[0m\u001b[0m\n\u001b[1;32m     88\u001b[0m \u001b[0;34m\u001b[0m\u001b[0m\n\u001b[0;32m---> 89\u001b[0;31m             \u001b[0;32mraise\u001b[0m \u001b[0mdefault\u001b[0m\u001b[0;34m\u001b[0m\u001b[0;34m\u001b[0m\u001b[0m\n\u001b[0m\u001b[1;32m     90\u001b[0m \u001b[0;34m\u001b[0m\u001b[0m\n\u001b[1;32m     91\u001b[0m         \u001b[0;32mreturn\u001b[0m \u001b[0mdefault\u001b[0m\u001b[0;34m\u001b[0m\u001b[0;34m\u001b[0m\u001b[0m\n",
      "\u001b[0;31mValueError\u001b[0m: 'Field' has no 'project_id' property"
     ]
    }
   ],
   "source": [
    "f.del_property('project_id')\n",
    "f.get_property('project_id')  # This should fail!"
   ]
  },
  {
   "cell_type": "code",
   "execution_count": 10,
   "metadata": {},
   "outputs": [
    {
     "data": {
      "text/plain": [
       "'UNSET'"
      ]
     },
     "execution_count": 10,
     "metadata": {},
     "output_type": "execute_result"
    }
   ],
   "source": [
    "f.get_property('project_id', 'UNSET')"
   ]
  },
  {
   "cell_type": "code",
   "execution_count": 11,
   "metadata": {},
   "outputs": [
    {
     "name": "stdout",
     "output_type": "stream",
     "text": [
      "Help on method get_property in module cf.mixin.properties:\n",
      "\n",
      "get_property(prop, default=ValueError()) method of cf.field.Field instance\n",
      "    Get a CF property.\n",
      "        \n",
      "    .. seealso:: `clear_properties`, `del_property`, `has_property`,\n",
      "                 `properties`, `set_property`\n",
      "    \n",
      "    .. versionadded:: 3.0.0\n",
      "    \n",
      "    :Parameters:\n",
      "    \n",
      "        prop: `str`\n",
      "            The name of the CF property.\n",
      "    \n",
      "            *Parameter example:*\n",
      "               ``prop='long_name'``\n",
      "    \n",
      "        default: optional\n",
      "            Return the value of the *default* parameter if the\n",
      "            property does not exist. If set to an `Exception` instance\n",
      "            then it will be raised instead.\n",
      "    \n",
      "    :Returns:\n",
      "    \n",
      "            The value of the named property or the default value, if\n",
      "            set.\n",
      "    \n",
      "    **Examples:**\n",
      "    \n",
      "    \n",
      "    >>> f.set_property('project', 'CMIP7')\n",
      "    >>> f.has_property('project')\n",
      "    True\n",
      "    >>> f.get_property('project')\n",
      "    'CMIP7'\n",
      "    >>> f.del_property('project')\n",
      "    'CMIP7'\n",
      "    >>> f.has_property('project')\n",
      "    False\n",
      "    >>> print(f.del_property('project', None))\n",
      "    None\n",
      "    >>> print(f.get_property('project', None))\n",
      "    None\n",
      "\n"
     ]
    }
   ],
   "source": [
    "help(f.get_property)"
   ]
  },
  {
   "cell_type": "markdown",
   "metadata": {},
   "source": [
    "### Shorthand for named CF properties\n",
    "http://cfconventions.org/Data/cf-conventions/cf-conventions-1.7/cf-conventions.html#attribute-appendix"
   ]
  },
  {
   "cell_type": "code",
   "execution_count": 12,
   "metadata": {},
   "outputs": [
    {
     "name": "stdout",
     "output_type": "stream",
     "text": [
      "air_temperature\n",
      "banana\n",
      "air_temperature\n"
     ]
    }
   ],
   "source": [
    "print(f.standard_name)\n",
    "f.standard_name = 'banana'\n",
    "print(f.standard_name)\n",
    "del(f.standard_name)\n",
    "f.standard_name = 'air_temperature'\n",
    "print(f.standard_name)"
   ]
  },
  {
   "cell_type": "markdown",
   "metadata": {},
   "source": [
    "### Reading many files"
   ]
  },
  {
   "cell_type": "code",
   "execution_count": 13,
   "metadata": {},
   "outputs": [
    {
     "data": {
      "text/plain": [
       "[<CF Field: air_temperature(long_name=t(1), long_name=p(1), latitude(160), longitude(320)) K>,\n",
       " <CF Field: air_temperature(long_name=t(1), long_name=p(1), long_name=latitude(256), long_name=longitude(512)) K>,\n",
       " <CF Field: eastward_wind(time(1), pressure(37), latitude(256), longitude(512)) m s**-1>,\n",
       " <CF Field: eastward_wind(time(1), pressure(23), latitude(160), longitude(320)) m s**-1>,\n",
       " <CF Field: eastward_wind(time(1), pressure(23), latitude(36), longitude(48)) m s**-1>,\n",
       " <CF Field: northward_wind(time(1), pressure(23), latitude(36), longitude(48)) m s**-1>,\n",
       " <CF Field: air_temperature(time(1680), latitude(73), longitude(96)) K>]"
      ]
     },
     "execution_count": 13,
     "metadata": {},
     "output_type": "execute_result"
    }
   ],
   "source": [
    "fl = cf.read('ncas_data/data[2-7].nc')\n",
    "fl"
   ]
  },
  {
   "cell_type": "markdown",
   "metadata": {},
   "source": [
    "### A `FieldList` object inherits all of the usual Python `list` functionality "
   ]
  },
  {
   "cell_type": "code",
   "execution_count": 14,
   "metadata": {},
   "outputs": [
    {
     "name": "stdout",
     "output_type": "stream",
     "text": [
      "IDENTITY: air_temperature SHAPE: (1, 1, 160, 320) UNITS: K\n",
      "IDENTITY: air_temperature SHAPE: (1, 1, 256, 512) UNITS: K\n",
      "IDENTITY: eastward_wind SHAPE: (1, 37, 256, 512) UNITS: m s**-1\n",
      "IDENTITY: eastward_wind SHAPE: (1, 23, 160, 320) UNITS: m s**-1\n",
      "IDENTITY: eastward_wind SHAPE: (1, 23, 36, 48) UNITS: m s**-1\n",
      "IDENTITY: northward_wind SHAPE: (1, 23, 36, 48) UNITS: m s**-1\n",
      "IDENTITY: air_temperature SHAPE: (1680, 73, 96) UNITS: K\n"
     ]
    }
   ],
   "source": [
    "for x in fl:\n",
    "    print('IDENTITY:', x.identity(), 'SHAPE:', x.shape, 'UNITS:', x.units)"
   ]
  },
  {
   "cell_type": "markdown",
   "metadata": {},
   "source": [
    "### Select by list position"
   ]
  },
  {
   "cell_type": "code",
   "execution_count": 15,
   "metadata": {},
   "outputs": [
    {
     "data": {
      "text/plain": [
       "<CF Field: air_temperature(long_name=t(1), long_name=p(1), latitude(160), longitude(320)) K>"
      ]
     },
     "execution_count": 15,
     "metadata": {},
     "output_type": "execute_result"
    }
   ],
   "source": [
    "g = fl[0]\n",
    "g"
   ]
  },
  {
   "cell_type": "code",
   "execution_count": 16,
   "metadata": {},
   "outputs": [
    {
     "data": {
      "text/plain": [
       "[<CF Field: eastward_wind(time(1), pressure(23), latitude(36), longitude(48)) m s**-1>,\n",
       " <CF Field: northward_wind(time(1), pressure(23), latitude(36), longitude(48)) m s**-1>,\n",
       " <CF Field: air_temperature(time(1680), latitude(73), longitude(96)) K>]"
      ]
     },
     "execution_count": 16,
     "metadata": {},
     "output_type": "execute_result"
    }
   ],
   "source": [
    "fl[4:]"
   ]
  },
  {
   "cell_type": "markdown",
   "metadata": {},
   "source": [
    "### Select by metadata\n",
    "https://ncas-cms.github.io/cf-python/tutorial.html#sorting-and-selecting-from-field-lists"
   ]
  },
  {
   "cell_type": "code",
   "execution_count": 17,
   "metadata": {},
   "outputs": [
    {
     "data": {
      "text/plain": [
       "[<CF Field: air_temperature(long_name=t(1), long_name=p(1), latitude(160), longitude(320)) K>,\n",
       " <CF Field: air_temperature(long_name=t(1), long_name=p(1), long_name=latitude(256), long_name=longitude(512)) K>,\n",
       " <CF Field: air_temperature(time(1680), latitude(73), longitude(96)) K>]"
      ]
     },
     "execution_count": 17,
     "metadata": {},
     "output_type": "execute_result"
    }
   ],
   "source": [
    "fl.select('air_temperature')"
   ]
  },
  {
   "cell_type": "code",
   "execution_count": 18,
   "metadata": {},
   "outputs": [
    {
     "data": {
      "text/plain": [
       "[<CF Field: northward_wind(time(1), pressure(23), latitude(36), longitude(48)) m s**-1>]"
      ]
     },
     "execution_count": 18,
     "metadata": {},
     "output_type": "execute_result"
    }
   ],
   "source": [
    "fl.select('northward_wind')"
   ]
  },
  {
   "cell_type": "code",
   "execution_count": 19,
   "metadata": {},
   "outputs": [
    {
     "data": {
      "text/plain": [
       "[]"
      ]
     },
     "execution_count": 19,
     "metadata": {},
     "output_type": "execute_result"
    }
   ],
   "source": [
    "fl.select_by_units('km h-1')"
   ]
  },
  {
   "cell_type": "code",
   "execution_count": 20,
   "metadata": {},
   "outputs": [
    {
     "data": {
      "text/plain": [
       "[<CF Field: eastward_wind(time(1), pressure(37), latitude(256), longitude(512)) m s**-1>,\n",
       " <CF Field: eastward_wind(time(1), pressure(23), latitude(160), longitude(320)) m s**-1>,\n",
       " <CF Field: eastward_wind(time(1), pressure(23), latitude(36), longitude(48)) m s**-1>,\n",
       " <CF Field: northward_wind(time(1), pressure(23), latitude(36), longitude(48)) m s**-1>]"
      ]
     },
     "execution_count": 20,
     "metadata": {},
     "output_type": "execute_result"
    }
   ],
   "source": [
    "fl.select_by_units('km h-1', exact=False)"
   ]
  },
  {
   "cell_type": "code",
   "execution_count": 21,
   "metadata": {},
   "outputs": [
    {
     "data": {
      "text/plain": [
       "[<CF Field: eastward_wind(time(1), pressure(37), latitude(256), longitude(512)) m s**-1>,\n",
       " <CF Field: eastward_wind(time(1), pressure(23), latitude(160), longitude(320)) m s**-1>,\n",
       " <CF Field: eastward_wind(time(1), pressure(23), latitude(36), longitude(48)) m s**-1>,\n",
       " <CF Field: northward_wind(time(1), pressure(23), latitude(36), longitude(48)) m s**-1>]"
      ]
     },
     "execution_count": 21,
     "metadata": {},
     "output_type": "execute_result"
    }
   ],
   "source": [
    "import re\n",
    "fl.select(re.compile('(east|north)ward_wind'))"
   ]
  },
  {
   "cell_type": "markdown",
   "metadata": {},
   "source": [
    "# Write fields to a netCDF file\n",
    "https://ncas-cms.github.io/cf-python/function/cf.write.html"
   ]
  },
  {
   "cell_type": "code",
   "execution_count": 22,
   "metadata": {},
   "outputs": [],
   "source": [
    "cf.write(f, 'new_file.nc')"
   ]
  },
  {
   "cell_type": "code",
   "execution_count": 23,
   "metadata": {},
   "outputs": [
    {
     "data": {
      "text/plain": [
       "True"
      ]
     },
     "execution_count": 23,
     "metadata": {},
     "output_type": "execute_result"
    }
   ],
   "source": [
    "g = cf.read('new_file.nc')[0]\n",
    "f.equals(g)"
   ]
  },
  {
   "cell_type": "markdown",
   "metadata": {},
   "source": [
    "# 2. Subspace a field\n",
    "\n",
    "\n",
    "### Index-space: [square brackets] \n",
    "https://ncas-cms.github.io/cf-python/tutorial.html#subspacing-by-index"
   ]
  },
  {
   "cell_type": "code",
   "execution_count": 24,
   "metadata": {},
   "outputs": [
    {
     "data": {
      "text/plain": [
       "<CF Field: air_temperature(time(120), latitude(145), longitude(192)) K>"
      ]
     },
     "execution_count": 24,
     "metadata": {},
     "output_type": "execute_result"
    }
   ],
   "source": [
    "f"
   ]
  },
  {
   "cell_type": "code",
   "execution_count": 25,
   "metadata": {},
   "outputs": [
    {
     "name": "stdout",
     "output_type": "stream",
     "text": [
      "Field: air_temperature (ncvar%tas)\n",
      "----------------------------------\n",
      "Data            : air_temperature(time(1), latitude(1), longitude(1)) K\n",
      "Cell methods    : time(1): mean (interval: 30 minutes)\n",
      "Dimension coords: time(1) = [1959-12-16 12:00:00] 365_day\n",
      "                : latitude(1) = [-90.0] degrees_north\n",
      "                : longitude(1) = [0.0] degrees_east\n",
      "                : height(1) = [2.0] m\n",
      "\n"
     ]
    }
   ],
   "source": [
    "print(f[0, 0, 0])"
   ]
  },
  {
   "cell_type": "code",
   "execution_count": 26,
   "metadata": {},
   "outputs": [
    {
     "data": {
      "text/plain": [
       "<CF Field: air_temperature(time(6), latitude(145), longitude(192)) K>"
      ]
     },
     "execution_count": 26,
     "metadata": {},
     "output_type": "execute_result"
    }
   ],
   "source": [
    "f[0:6, :, :]"
   ]
  },
  {
   "cell_type": "markdown",
   "metadata": {},
   "source": [
    "### Metadata-space: (`subspace` method)\n",
    "https://ncas-cms.github.io/cf-python/tutorial.html#subspacing-by-metadata"
   ]
  },
  {
   "cell_type": "code",
   "execution_count": 27,
   "metadata": {},
   "outputs": [
    {
     "name": "stdout",
     "output_type": "stream",
     "text": [
      "Field: air_temperature (ncvar%tas)\n",
      "----------------------------------\n",
      "Data            : air_temperature(time(120), latitude(145), longitude(192)) K\n",
      "Cell methods    : time(120): mean (interval: 30 minutes)\n",
      "Dimension coords: time(120) = [1959-12-16 12:00:00, ..., 1969-11-16 00:00:00] 365_day\n",
      "                : latitude(145) = [-90.0, ..., 90.0] degrees_north\n",
      "                : longitude(192) = [0.0, ..., 358.125] degrees_east\n",
      "                : height(1) = [2.0] m\n",
      "\n"
     ]
    }
   ],
   "source": [
    "print(f)"
   ]
  },
  {
   "cell_type": "code",
   "execution_count": 28,
   "metadata": {},
   "outputs": [
    {
     "name": "stdout",
     "output_type": "stream",
     "text": [
      "Field: air_temperature (ncvar%tas)\n",
      "----------------------------------\n",
      "Data            : air_temperature(time(120), latitude(145), longitude(1)) K\n",
      "Cell methods    : time(120): mean (interval: 30 minutes)\n",
      "Dimension coords: time(120) = [1959-12-16 12:00:00, ..., 1969-11-16 00:00:00] 365_day\n",
      "                : latitude(145) = [-90.0, ..., 90.0] degrees_north\n",
      "                : longitude(1) = [180.0] degrees_east\n",
      "                : height(1) = [2.0] m\n",
      "\n"
     ]
    }
   ],
   "source": [
    "print(f.subspace(longitude=180))"
   ]
  },
  {
   "cell_type": "markdown",
   "metadata": {},
   "source": [
    "#### `cf.lt(30)` is a \"query\" that means *less than 30*\n",
    "\n",
    "https://ncas-cms.github.io/cf-python/tutorial.html#encapsulating-conditions"
   ]
  },
  {
   "cell_type": "code",
   "execution_count": 29,
   "metadata": {},
   "outputs": [
    {
     "name": "stdout",
     "output_type": "stream",
     "text": [
      "Field: air_temperature (ncvar%tas)\n",
      "----------------------------------\n",
      "Data            : air_temperature(time(120), latitude(96), longitude(192)) K\n",
      "Cell methods    : time(120): mean (interval: 30 minutes)\n",
      "Dimension coords: time(120) = [1959-12-16 12:00:00, ..., 1969-11-16 00:00:00] 365_day\n",
      "                : latitude(96) = [-90.0, ..., 28.75] degrees_north\n",
      "                : longitude(192) = [0.0, ..., 358.125] degrees_east\n",
      "                : height(1) = [2.0] m\n",
      "\n"
     ]
    }
   ],
   "source": [
    "print(f.subspace(latitude=cf.lt(30)))"
   ]
  },
  {
   "cell_type": "markdown",
   "metadata": {},
   "source": [
    "#### `cf.wi(90, 270)` is a query that means *within the range [90, 270]*"
   ]
  },
  {
   "cell_type": "code",
   "execution_count": 30,
   "metadata": {},
   "outputs": [
    {
     "name": "stdout",
     "output_type": "stream",
     "text": [
      "Field: air_temperature (ncvar%tas)\n",
      "----------------------------------\n",
      "Data            : air_temperature(time(120), latitude(145), longitude(97)) K\n",
      "Cell methods    : time(120): mean (interval: 30 minutes)\n",
      "Dimension coords: time(120) = [1959-12-16 12:00:00, ..., 1969-11-16 00:00:00] 365_day\n",
      "                : latitude(145) = [-90.0, ..., 90.0] degrees_north\n",
      "                : longitude(97) = [90.0, ..., 270.0] degrees_east\n",
      "                : height(1) = [2.0] m\n",
      "\n"
     ]
    }
   ],
   "source": [
    "print(f.subspace(longitude=cf.wi(90, 270)))"
   ]
  },
  {
   "cell_type": "code",
   "execution_count": 31,
   "metadata": {},
   "outputs": [
    {
     "name": "stdout",
     "output_type": "stream",
     "text": [
      "Field: air_temperature (ncvar%tas)\n",
      "----------------------------------\n",
      "Data            : air_temperature(time(1), latitude(145), longitude(192)) K\n",
      "Cell methods    : time(1): mean (interval: 30 minutes)\n",
      "Dimension coords: time(1) = [1965-11-16 00:00:00] 365_day\n",
      "                : latitude(145) = [-90.0, ..., 90.0] degrees_north\n",
      "                : longitude(192) = [0.0, ..., 358.125] degrees_east\n",
      "                : height(1) = [2.0] m\n",
      "\n"
     ]
    }
   ],
   "source": [
    "g = f.subspace(time=cf.dt('1965-11-16'))\n",
    "print(g)"
   ]
  },
  {
   "cell_type": "code",
   "execution_count": 35,
   "metadata": {},
   "outputs": [
    {
     "data": {
      "image/png": "[encoded data removed]",
      "text/plain": [
       "<Figure size 842.4x597.6 with 3 Axes>"
      ]
     },
     "metadata": {
      "needs_background": "light"
     },
     "output_type": "display_data"
    }
   ],
   "source": [
    "# In-line images\n",
    "%matplotlib inline\n",
    "# Turn off warnings\n",
    "#import warnings\n",
    "#warnings.filterwarnings(\"ignore\")\n",
    "\n",
    "import cfplot as cfp\n",
    "cfp.con(g)"
   ]
  },
  {
   "cell_type": "markdown",
   "metadata": {},
   "source": [
    "#### `T` is shorthand for *time*"
   ]
  },
  {
   "cell_type": "code",
   "execution_count": 36,
   "metadata": {},
   "outputs": [
    {
     "name": "stdout",
     "output_type": "stream",
     "text": [
      "Field: air_temperature (ncvar%tas)\n",
      "----------------------------------\n",
      "Data            : air_temperature(time(33), latitude(145), longitude(192)) K\n",
      "Cell methods    : time(33): mean (interval: 30 minutes)\n",
      "Dimension coords: time(33) = [1967-03-16 12:00:00, ..., 1969-11-16 00:00:00] 365_day\n",
      "                : latitude(145) = [-90.0, ..., 90.0] degrees_north\n",
      "                : longitude(192) = [0.0, ..., 358.125] degrees_east\n",
      "                : height(1) = [2.0] m\n",
      "\n"
     ]
    }
   ],
   "source": [
    "print(f.subspace(T=cf.ge(cf.dt('1967-2-18'))))"
   ]
  },
  {
   "cell_type": "code",
   "execution_count": 37,
   "metadata": {},
   "outputs": [
    {
     "name": "stdout",
     "output_type": "stream",
     "text": [
      "Field: air_temperature (ncvar%tas)\n",
      "----------------------------------\n",
      "Data            : air_temperature(time(10), latitude(145), longitude(192)) K\n",
      "Cell methods    : time(10): mean (interval: 30 minutes)\n",
      "Dimension coords: time(10) = [1960-04-16 00:00:00, ..., 1969-04-16 00:00:00] 365_day\n",
      "                : latitude(145) = [-90.0, ..., 90.0] degrees_north\n",
      "                : longitude(192) = [0.0, ..., 358.125] degrees_east\n",
      "                : height(1) = [2.0] m\n",
      "\n"
     ]
    }
   ],
   "source": [
    "print(f.subspace(T=cf.month(4)))"
   ]
  },
  {
   "cell_type": "code",
   "execution_count": 38,
   "metadata": {},
   "outputs": [
    {
     "name": "stdout",
     "output_type": "stream",
     "text": [
      "Field: air_temperature (ncvar%tas)\n",
      "----------------------------------\n",
      "Data            : air_temperature(time(1), latitude(48), longitude(192)) K\n",
      "Cell methods    : time(1): mean (interval: 30 minutes)\n",
      "Dimension coords: time(1) = [1965-11-16 00:00:00] 365_day\n",
      "                : latitude(48) = [31.25, ..., 90.0] degrees_north\n",
      "                : longitude(192) = [0.0, ..., 358.125] degrees_east\n",
      "                : height(1) = [2.0] m\n",
      "\n"
     ]
    }
   ],
   "source": [
    "print(f.subspace(time=cf.dt('1965-11-16'), Y=cf.gt(30)))"
   ]
  },
  {
   "cell_type": "markdown",
   "metadata": {},
   "source": [
    "# 3. The field's data"
   ]
  },
  {
   "cell_type": "code",
   "execution_count": 39,
   "metadata": {},
   "outputs": [
    {
     "data": {
      "text/plain": [
       "<CF Data(120, 145, 192): [[[244.82579040527344, ..., 244.52688598632812]]] K>"
      ]
     },
     "execution_count": 39,
     "metadata": {},
     "output_type": "execute_result"
    }
   ],
   "source": [
    "f.data"
   ]
  },
  {
   "cell_type": "markdown",
   "metadata": {},
   "source": [
    "#### Get the data as a `numpy` array"
   ]
  },
  {
   "cell_type": "code",
   "execution_count": 40,
   "metadata": {},
   "outputs": [
    {
     "name": "stdout",
     "output_type": "stream",
     "text": [
      "<class 'numpy.ndarray'>\n"
     ]
    }
   ],
   "source": [
    "print(type(f.array))"
   ]
  },
  {
   "cell_type": "code",
   "execution_count": 41,
   "metadata": {},
   "outputs": [
    {
     "data": {
      "text/plain": [
       "array([[[244.82579041, 244.82579041, 244.82579041, ..., 244.82579041,\n",
       "         244.82579041, 244.82579041],\n",
       "        [245.76259871, 245.64571488, 245.52913189, ..., 246.10911099,\n",
       "         246.01224121, 245.88722523],\n",
       "        [246.0103291 , 245.86191647, 245.71379773, ..., 246.47294155,\n",
       "         246.33730691, 246.17361118],\n",
       "        ...,\n",
       "        [246.92743832, 246.92339943, 246.91909425, ..., 246.96167234,\n",
       "         246.95784869, 246.94273518],\n",
       "        [246.83550681, 246.83572591, 246.8362101 , ..., 246.84365246,\n",
       "         246.84140166, 246.83832122],\n",
       "        [246.11326599, 246.11326599, 246.11326599, ..., 246.11326599,\n",
       "         246.11326599, 246.11326599]],\n",
       "\n",
       "       [[246.98564148, 246.98564148, 246.98564148, ..., 246.98564148,\n",
       "         246.98564148, 246.98564148],\n",
       "        [248.46694996, 248.35942057, 248.25239525, ..., 248.76876914,\n",
       "         248.68722049, 248.57679331],\n",
       "        [248.94832661, 248.81420465, 248.68104777, ..., 249.34295834,\n",
       "         249.23124955, 249.08926564],\n",
       "        ...,\n",
       "        [244.75140282, 244.79450904, 244.83979468, ..., 244.6257257 ,\n",
       "         244.63474002, 244.69223537],\n",
       "        [244.26617971, 244.26601925, 244.26605184, ..., 244.25610468,\n",
       "         244.26110323, 244.26354541],\n",
       "        [243.73991394, 243.73991394, 243.73991394, ..., 243.73991394,\n",
       "         243.73991394, 243.73991394]],\n",
       "\n",
       "       [[238.64672852, 238.64672852, 238.64672852, ..., 238.64672852,\n",
       "         238.64672852, 238.64672852],\n",
       "        [240.90044159, 240.79150484, 240.68335504, ..., 241.2274457 ,\n",
       "         241.13952195, 241.01954646],\n",
       "        [241.5250896 , 241.37456484, 241.22489827, ..., 241.95320127,\n",
       "         241.8409942 , 241.68252141],\n",
       "        ...,\n",
       "        [248.00269058, 248.04255923, 248.08195776, ..., 247.92383843,\n",
       "         247.93659988, 247.96997174],\n",
       "        [248.07975765, 248.09382317, 248.10796599, ..., 248.03324901,\n",
       "         248.0463194 , 248.06300552],\n",
       "        [247.88311768, 247.88311768, 247.88311768, ..., 247.88311768,\n",
       "         247.88311768, 247.88311768]],\n",
       "\n",
       "       ...,\n",
       "\n",
       "       [[218.3809967 , 218.3809967 , 218.3809967 , ..., 218.3809967 ,\n",
       "         218.3809967 , 218.3809967 ],\n",
       "        [222.51105005, 222.37146927, 222.23335266, ..., 222.92622521,\n",
       "         222.80920679, 222.65934352],\n",
       "        [223.39134329, 223.18564669, 222.98016442, ..., 224.08781177,\n",
       "         223.9088083 , 223.64966105],\n",
       "        ...,\n",
       "        [263.3827055 , 263.41147103, 263.44018716, ..., 263.32895833,\n",
       "         263.32190459, 263.35243633],\n",
       "        [263.36784083, 263.3719884 , 263.37622917, ..., 263.35296469,\n",
       "         263.34722803, 263.35749049],\n",
       "        [263.11798096, 263.11798096, 263.11798096, ..., 263.11798096,\n",
       "         263.11798096, 263.11798096]],\n",
       "\n",
       "       [[224.6340332 , 224.6340332 , 224.6340332 , ..., 224.6340332 ,\n",
       "         224.6340332 , 224.6340332 ],\n",
       "        [228.74383178, 228.61669429, 228.49101809, ..., 229.09874974,\n",
       "         228.99826944, 228.87027344],\n",
       "        [229.74313793, 229.55913786, 229.37601502, ..., 230.33489247,\n",
       "         230.19045123, 229.96608959],\n",
       "        ...,\n",
       "        [256.26714909, 256.28421392, 256.30294055, ..., 256.20159163,\n",
       "         256.20182277, 256.23381276],\n",
       "        [255.77698867, 255.77362267, 255.77060791, ..., 255.79799041,\n",
       "         255.7896479 , 255.78314092],\n",
       "        [254.81634521, 254.81634521, 254.81634521, ..., 254.81634521,\n",
       "         254.81634521, 254.81634521]],\n",
       "\n",
       "       [[233.46508789, 233.46508789, 233.46508789, ..., 233.46508789,\n",
       "         233.46508789, 233.46508789],\n",
       "        [235.90397092, 235.80538782, 235.7076634 , ..., 236.19998278,\n",
       "         236.11504753, 236.00904252],\n",
       "        [236.57557625, 236.44044317, 236.30624061, ..., 237.00251856,\n",
       "         236.88045565, 236.72743849],\n",
       "        ...,\n",
       "        [243.62023857, 243.68235199, 243.74373306, ..., 243.47283281,\n",
       "         243.50055213, 243.56089229],\n",
       "        [243.91050955, 243.93941386, 243.96810263, ..., 243.8179779 ,\n",
       "         243.85034625, 243.88054648],\n",
       "        [244.52688599, 244.52688599, 244.52688599, ..., 244.52688599,\n",
       "         244.52688599, 244.52688599]]])"
      ]
     },
     "execution_count": 41,
     "metadata": {},
     "output_type": "execute_result"
    }
   ],
   "source": [
    "f.array"
   ]
  },
  {
   "cell_type": "code",
   "execution_count": 42,
   "metadata": {},
   "outputs": [
    {
     "name": "stdout",
     "output_type": "stream",
     "text": [
      "<class 'numpy.ndarray'>\n"
     ]
    },
    {
     "data": {
      "text/plain": [
       "237.00251856000077"
      ]
     },
     "execution_count": 42,
     "metadata": {},
     "output_type": "execute_result"
    }
   ],
   "source": [
    "print(type(f.array))\n",
    "f.array[-1, 2, -3]"
   ]
  },
  {
   "cell_type": "code",
   "execution_count": 43,
   "metadata": {},
   "outputs": [
    {
     "data": {
      "text/plain": [
       "<CF Field: air_temperature(time(1), latitude(1), longitude(1)) K>"
      ]
     },
     "execution_count": 43,
     "metadata": {},
     "output_type": "execute_result"
    }
   ],
   "source": [
    "g = f.subspace[-1, 2, -3]\n",
    "g"
   ]
  },
  {
   "cell_type": "code",
   "execution_count": 44,
   "metadata": {},
   "outputs": [
    {
     "data": {
      "text/plain": [
       "array([[[237.00251856]]])"
      ]
     },
     "execution_count": 44,
     "metadata": {},
     "output_type": "execute_result"
    }
   ],
   "source": [
    "g.array"
   ]
  },
  {
   "cell_type": "code",
   "execution_count": 45,
   "metadata": {},
   "outputs": [
    {
     "data": {
      "text/plain": [
       "array([[[-999.]]])"
      ]
     },
     "execution_count": 45,
     "metadata": {},
     "output_type": "execute_result"
    }
   ],
   "source": [
    "x = f.copy()\n",
    "x.subspace[-1, -1, -1] = -999\n",
    "x.subspace[-1, -1, -1].array"
   ]
  },
  {
   "cell_type": "code",
   "execution_count": 46,
   "metadata": {},
   "outputs": [
    {
     "data": {
      "text/plain": [
       "array([[[888., 888., 888., ..., 888., 888., 888.],\n",
       "        [888., 888., 888., ..., 888., 888., 888.],\n",
       "        [888., 888., 888., ..., 888., 888., 888.],\n",
       "        ...,\n",
       "        [888., 888., 888., ..., 888., 888., 888.],\n",
       "        [888., 888., 888., ..., 888., 888., 888.],\n",
       "        [888., 888., 888., ..., 888., 888., 888.]]])"
      ]
     },
     "execution_count": 46,
     "metadata": {},
     "output_type": "execute_result"
    }
   ],
   "source": [
    "x.subspace[-1, ...] = 888\n",
    "x.subspace[-1, ...].array"
   ]
  },
  {
   "cell_type": "code",
   "execution_count": 47,
   "metadata": {},
   "outputs": [
    {
     "data": {
      "text/plain": [
       "array([[[777., 777., 777., ..., 777., 777., 777.],\n",
       "        [777., 777., 777., ..., 777., 777., 777.],\n",
       "        [777., 777., 777., ..., 777., 777., 777.],\n",
       "        ...,\n",
       "        [777., 777., 777., ..., 777., 777., 777.],\n",
       "        [777., 777., 777., ..., 777., 777., 777.],\n",
       "        [777., 777., 777., ..., 777., 777., 777.]]])"
      ]
     },
     "execution_count": 47,
     "metadata": {},
     "output_type": "execute_result"
    }
   ],
   "source": [
    "x.subspace[0, ...] = x.subspace[-1, ...] - 111\n",
    "x.subspace[0, ...].array"
   ]
  },
  {
   "cell_type": "markdown",
   "metadata": {},
   "source": [
    "### Modify the data where a condition is met\n",
    "https://ncas-cms.github.io/cf-python/tutorial.html#encapsulating-conditions"
   ]
  },
  {
   "cell_type": "code",
   "execution_count": 48,
   "metadata": {},
   "outputs": [
    {
     "name": "stdout",
     "output_type": "stream",
     "text": [
      "Field: air_temperature (ncvar%tas)\n",
      "----------------------------------\n",
      "Data            : air_temperature(time(120), latitude(145), longitude(192)) K\n",
      "Cell methods    : time(120): mean (interval: 30 minutes)\n",
      "Dimension coords: time(120) = [1959-12-16 12:00:00, ..., 1969-11-16 00:00:00] 365_day\n",
      "                : latitude(145) = [-90.0, ..., 90.0] degrees_north\n",
      "                : longitude(192) = [0.0, ..., 358.125] degrees_east\n",
      "                : height(1) = [2.0] m\n",
      "\n"
     ]
    }
   ],
   "source": [
    "print(f)"
   ]
  },
  {
   "cell_type": "code",
   "execution_count": 49,
   "metadata": {},
   "outputs": [
    {
     "data": {
      "text/plain": [
       "{'min': <CF Data(): 203.62451171875 K>,\n",
       " 'mean': <CF Data(): 276.5847382914912 K>,\n",
       " 'max': <CF Data(): 311.89597497768546 K>,\n",
       " 'range': <CF Data(): 108.27146325893546 K>,\n",
       " 'mid_range': <CF Data(): 257.7602433482177 K>,\n",
       " 'standard_deviation': <CF Data(): 20.816570165513593 K>,\n",
       " 'sample_size': 3340800}"
      ]
     },
     "execution_count": 49,
     "metadata": {},
     "output_type": "execute_result"
    }
   ],
   "source": [
    "f.data.stats()"
   ]
  },
  {
   "cell_type": "markdown",
   "metadata": {},
   "source": [
    "#### Set values below 290 to missing data"
   ]
  },
  {
   "cell_type": "code",
   "execution_count": null,
   "metadata": {},
   "outputs": [],
   "source": [
    "x = f.where(cf.lt(290), cf.masked)\n",
    "x.data.stats()"
   ]
  },
  {
   "cell_type": "code",
   "execution_count": null,
   "metadata": {},
   "outputs": [],
   "source": [
    "cfp.con(x.subspace[0])"
   ]
  },
  {
   "cell_type": "markdown",
   "metadata": {},
   "source": [
    "### Manipulate the axes"
   ]
  },
  {
   "cell_type": "code",
   "execution_count": null,
   "metadata": {},
   "outputs": [],
   "source": [
    "f.transpose(['X', 'T', 'Y'])"
   ]
  },
  {
   "cell_type": "markdown",
   "metadata": {},
   "source": [
    "### Modifying the units"
   ]
  },
  {
   "cell_type": "code",
   "execution_count": null,
   "metadata": {},
   "outputs": [],
   "source": [
    "f = cf.read('ncas_data/IPSL-CM5A-LR_r1i1p1_tas_n96_rcp45_mnth.nc')[0]\n",
    "f.units, f.mean()"
   ]
  },
  {
   "cell_type": "code",
   "execution_count": null,
   "metadata": {},
   "outputs": [],
   "source": [
    "f.units = 'degC'\n",
    "f.units, f.mean()"
   ]
  },
  {
   "cell_type": "code",
   "execution_count": null,
   "metadata": {},
   "outputs": [],
   "source": [
    "f.Units # Upper case \"U\" gives a units object that we can manipulate"
   ]
  },
  {
   "cell_type": "code",
   "execution_count": null,
   "metadata": {},
   "outputs": [],
   "source": [
    "f.Units += 273.15\n",
    "f.Units, f.units, f.mean()"
   ]
  },
  {
   "cell_type": "markdown",
   "metadata": {},
   "source": [
    "### Field arithmetic"
   ]
  },
  {
   "cell_type": "code",
   "execution_count": null,
   "metadata": {},
   "outputs": [],
   "source": [
    "f"
   ]
  },
  {
   "cell_type": "code",
   "execution_count": null,
   "metadata": {},
   "outputs": [],
   "source": [
    "f.data.stats()"
   ]
  },
  {
   "cell_type": "code",
   "execution_count": null,
   "metadata": {},
   "outputs": [],
   "source": [
    "g = f + 2\n",
    "g"
   ]
  },
  {
   "cell_type": "code",
   "execution_count": null,
   "metadata": {},
   "outputs": [],
   "source": [
    "g.data.stats() #min(), g.mean(), g.max()"
   ]
  },
  {
   "cell_type": "code",
   "execution_count": null,
   "metadata": {},
   "outputs": [],
   "source": [
    "g = f - f\n",
    "g"
   ]
  },
  {
   "cell_type": "code",
   "execution_count": null,
   "metadata": {},
   "outputs": [],
   "source": [
    "g.data.stats()"
   ]
  },
  {
   "cell_type": "code",
   "execution_count": null,
   "metadata": {},
   "outputs": [],
   "source": [
    "x = f.copy()\n",
    "x.units = 'degC'\n",
    "x.data"
   ]
  },
  {
   "cell_type": "markdown",
   "metadata": {},
   "source": [
    "#### Subtract the celcius field from the Kelvin field and check that the result is zero "
   ]
  },
  {
   "cell_type": "code",
   "execution_count": null,
   "metadata": {},
   "outputs": [],
   "source": [
    "(f - x).mean()"
   ]
  },
  {
   "cell_type": "code",
   "execution_count": null,
   "metadata": {},
   "outputs": [],
   "source": [
    "g = f * x\n",
    "g"
   ]
  },
  {
   "cell_type": "markdown",
   "metadata": {},
   "source": [
    "#### Find the anomalies relaitive to the first time"
   ]
  },
  {
   "cell_type": "code",
   "execution_count": null,
   "metadata": {},
   "outputs": [],
   "source": [
    "first_time = f.subspace[0]\n",
    "first_time = first_time.transpose(['Y', 'T', 'X'])\n",
    "first_time"
   ]
  },
  {
   "cell_type": "code",
   "execution_count": null,
   "metadata": {},
   "outputs": [],
   "source": [
    "g  = f - first_time\n",
    "g"
   ]
  },
  {
   "cell_type": "code",
   "execution_count": null,
   "metadata": {},
   "outputs": [],
   "source": [
    "g.data.stats()"
   ]
  },
  {
   "cell_type": "markdown",
   "metadata": {},
   "source": [
    "# 4. Statistical operations\n",
    "https://ncas-cms.github.io/cf-python/analysis.html#statistical-collapses"
   ]
  },
  {
   "cell_type": "code",
   "execution_count": null,
   "metadata": {},
   "outputs": [],
   "source": [
    "g = f.collapse('max')\n",
    "g"
   ]
  },
  {
   "cell_type": "code",
   "execution_count": null,
   "metadata": {},
   "outputs": [],
   "source": [
    "g.data"
   ]
  },
  {
   "cell_type": "code",
   "execution_count": null,
   "metadata": {},
   "outputs": [],
   "source": [
    "g = f.collapse('T: mean')\n",
    "print(g)\n",
    "print('data values:\\n', g.data)\n",
    "print('\\ntime bounds:\\n', g.coord('T').bounds.dtarray)"
   ]
  },
  {
   "cell_type": "markdown",
   "metadata": {},
   "source": [
    "#### Collapse multiple axes simultaneously"
   ]
  },
  {
   "cell_type": "code",
   "execution_count": null,
   "metadata": {},
   "outputs": [],
   "source": [
    "g = f.collapse('X: Y: sd')\n",
    "g"
   ]
  },
  {
   "cell_type": "markdown",
   "metadata": {},
   "source": [
    "#### Collapse an axis into groups, rather than a single value"
   ]
  },
  {
   "cell_type": "code",
   "execution_count": null,
   "metadata": {},
   "outputs": [],
   "source": [
    "g = f.collapse('T: mean', group=cf.seasons())\n",
    "print(g)"
   ]
  },
  {
   "cell_type": "markdown",
   "metadata": {},
   "source": [
    "#### `cf.seasons()` is a list of queries, each of which defines a range of months"
   ]
  },
  {
   "cell_type": "code",
   "execution_count": null,
   "metadata": {},
   "outputs": [],
   "source": [
    "cf.seasons()"
   ]
  },
  {
   "cell_type": "markdown",
   "metadata": {},
   "source": [
    "#### By default, collpases are **not** weighted"
   ]
  },
  {
   "cell_type": "code",
   "execution_count": null,
   "metadata": {},
   "outputs": [],
   "source": [
    "g = f.collapse('area: mean', weights='area') # Area mean for each time\n",
    "g = g.collapse('T: max')                     # Time maxiumum of the area means\n",
    "g.data\n",
    "print(g)"
   ]
  },
  {
   "cell_type": "markdown",
   "metadata": {},
   "source": [
    "### File aggregation"
   ]
  },
  {
   "cell_type": "markdown",
   "metadata": {},
   "source": [
    "#### Create a sequence of files on disk, each of which contains one year"
   ]
  },
  {
   "cell_type": "code",
   "execution_count": null,
   "metadata": {},
   "outputs": [],
   "source": [
    "f = cf.read('ncas_data/IPSL-CM5A-LR_r1i1p1_tas_n96_rcp45_mnth.nc')[0]\n",
    "print(f)\n",
    "for i in range(10):\n",
    "    g = f.subspace[12*i:12*(i+1)]\n",
    "    year = g.coord('T').year.array[0]\n",
    "    new_file = 'air_temperature_'+str(year)+'.nc'\n",
    "    cf.write(g, new_file)\n",
    "    print('    ',new_file)"
   ]
  },
  {
   "cell_type": "markdown",
   "metadata": {},
   "source": [
    "#### In Ipython `!` preceeeds a shell command"
   ]
  },
  {
   "cell_type": "code",
   "execution_count": null,
   "metadata": {},
   "outputs": [],
   "source": [
    "!ls -o air_temperature_*.nc"
   ]
  },
  {
   "cell_type": "code",
   "execution_count": null,
   "metadata": {
    "scrolled": true
   },
   "outputs": [],
   "source": [
    "f2 = cf.read('air_temperature_*.nc')\n",
    "print(f2)"
   ]
  },
  {
   "cell_type": "code",
   "execution_count": null,
   "metadata": {},
   "outputs": [],
   "source": [
    "f.equals(f2[0])"
   ]
  },
  {
   "cell_type": "code",
   "execution_count": null,
   "metadata": {},
   "outputs": [],
   "source": [
    "f3 = cf.read('air_temperature_*.nc', aggregate=False)\n",
    "f3"
   ]
  },
  {
   "cell_type": "markdown",
   "metadata": {},
   "source": [
    "# 5. PP and UM fields files"
   ]
  },
  {
   "cell_type": "code",
   "execution_count": null,
   "metadata": {},
   "outputs": [],
   "source": [
    "x = cf.read('ncas_data/aaaaoa.pmh8dec.pp')\n",
    "x"
   ]
  },
  {
   "cell_type": "code",
   "execution_count": null,
   "metadata": {},
   "outputs": [],
   "source": [
    "print(x[1])"
   ]
  },
  {
   "cell_type": "code",
   "execution_count": null,
   "metadata": {},
   "outputs": [],
   "source": [
    "cf.write(x, 'aaaaoa.pmh8dec.nc')"
   ]
  },
  {
   "cell_type": "code",
   "execution_count": null,
   "metadata": {},
   "outputs": [],
   "source": []
  }
 ],
 "metadata": {
  "anaconda-cloud": {},
  "kernelspec": {
   "display_name": "Python 3",
   "language": "python",
   "name": "python3"
  },
  "language_info": {
   "codemirror_mode": {
    "name": "ipython",
    "version": 3
   },
   "file_extension": ".py",
   "mimetype": "text/x-python",
   "name": "python",
   "nbconvert_exporter": "python",
   "pygments_lexer": "ipython3",
   "version": "3.7.4"
  }
 },
 "nbformat": 4,
 "nbformat_minor": 2
}
