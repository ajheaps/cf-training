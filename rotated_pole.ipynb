{
 "cells": [
  {
   "cell_type": "markdown",
   "metadata": {
    "collapsed": true
   },
   "source": [
    "# Rotated pole coordinates\n",
    "\n",
    "## Model CFL (Courant-Friedrichs-Lewy) stabilty issues that diminishing distances between points near the pole produce are sometimes overcome by running a model in rotated pole coordinates. In these an arbitary north pole that differs from the geographic pole is used.\n",
    "\n",
    "## A rotated pole data is a grid transformation rather than a projection.\n",
    "\n",
    "## Rotated pole data has:\n",
    "\n",
    "### `f.coordinate_reference('rotated_latitude_longitude')` set to not `None`\n",
    "### `f.grid_north_pole_longitude` - longitude of rotated pole\n",
    "### `f.grid_north_pole_latitude` - latitude of rotated pole\n",
    "### `f.grid_longitude` - 2 dimensional array of grid longitudes\n",
    "### `f.grid_latitude` - 2 dimensional arrays of grid latitudes\n",
    "\n",
    "## cf-plot routines for rotated pole plots\n",
    "### `cfp.rgrot` - rotate longitude and latitude points onto a rotated grid\n",
    "### `cfp.rgunrot` - translate points from a rotated grid to longitude/latitude grid\n"
   ]
  },
  {
   "cell_type": "code",
   "execution_count": null,
   "metadata": {},
   "outputs": [],
   "source": [
    "# Plot images inline - not needed in Python\n",
    "%matplotlib inline"
   ]
  },
  {
   "cell_type": "code",
   "execution_count": null,
   "metadata": {},
   "outputs": [],
   "source": [
    "# Contour plots of rotated pole data can be made in rotated pole space as \n",
    "# in this example. The map and longitude / latitude grid in normal\n",
    "# longitude-latiude coordinates are rotated onto the grid and overlaid onto\n",
    "# the data.\n",
    "\n",
    "import cf\n",
    "import cfplot as cfp\n",
    "\n",
    "f = cf.read('ncas_data/rgp.nc')[0]\n",
    "print(f)\n",
    "\n",
    "cfp.cscale('gray')\n",
    "cfp.con(f)"
   ]
  },
  {
   "cell_type": "code",
   "execution_count": null,
   "metadata": {},
   "outputs": [],
   "source": [
    "# Here we plot some rotated pole data using the longitude and latitude arrays on a \n",
    "# cylindrical projection grid.\n",
    "\n",
    "import cf, cfplot as cfp, numpy as np\n",
    "\n",
    "f = cf.read('ncas_data/rgp2.nc')[0]\n",
    "print(f)\n",
    "\n",
    "z = np.squeeze(f.array)\n",
    "x = f.coordinate('longitude').array\n",
    "y = f.coordinate('latitude').array\n",
    "\n",
    "#reset data array and contour\n",
    "z = z/1e13\n",
    "cfp.levs(3, 5.4, 0.1)\n",
    "cfp.cscale('plasma')\n",
    "cfp.con(x=x, y=y, f=z, ptype=1, colorbar_title='DENSITY*R*R *1e-13')"
   ]
  },
  {
   "cell_type": "code",
   "execution_count": null,
   "metadata": {},
   "outputs": [],
   "source": []
  },
  {
   "cell_type": "code",
   "execution_count": null,
   "metadata": {},
   "outputs": [],
   "source": []
  }
 ],
 "metadata": {
  "anaconda-cloud": {},
  "kernelspec": {
   "display_name": "Python 3",
   "language": "python",
   "name": "python3"
  },
  "language_info": {
   "codemirror_mode": {
    "name": "ipython",
    "version": 3
   },
   "file_extension": ".py",
   "mimetype": "text/x-python",
   "name": "python",
   "nbconvert_exporter": "python",
   "pygments_lexer": "ipython3",
   "version": "3.7.4"
  }
 },
 "nbformat": 4,
 "nbformat_minor": 1
}
